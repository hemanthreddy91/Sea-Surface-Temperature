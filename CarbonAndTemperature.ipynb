{
 "cells": [
  {
   "cell_type": "code",
   "execution_count": 90,
   "metadata": {
    "collapsed": false
   },
   "outputs": [],
   "source": [
    "%matplotlib inline \n",
    "\n",
    "import requests \n",
    "from io import StringIO\n",
    "import numpy as np\n",
    "import pandas as pd\n",
    "import matplotlib.pyplot as plt\n",
    "import datetime as dt\n",
    "import numpy.linalg as lin"
   ]
  },
  {
   "cell_type": "code",
   "execution_count": 91,
   "metadata": {
    "collapsed": false
   },
   "outputs": [
    {
     "data": {
      "text/html": [
       "<div>\n",
       "<table border=\"1\" class=\"dataframe\">\n",
       "  <thead>\n",
       "    <tr style=\"text-align: right;\">\n",
       "      <th></th>\n",
       "      <th>1970</th>\n",
       "      <th>1971</th>\n",
       "      <th>1972</th>\n",
       "      <th>1973</th>\n",
       "      <th>1974</th>\n",
       "      <th>1975</th>\n",
       "      <th>1976</th>\n",
       "      <th>1977</th>\n",
       "      <th>1978</th>\n",
       "      <th>1979</th>\n",
       "      <th>...</th>\n",
       "      <th>2004</th>\n",
       "      <th>2005</th>\n",
       "      <th>2006</th>\n",
       "      <th>2007</th>\n",
       "      <th>2008</th>\n",
       "      <th>2009</th>\n",
       "      <th>2010</th>\n",
       "      <th>2011</th>\n",
       "      <th>2012</th>\n",
       "      <th>2013</th>\n",
       "    </tr>\n",
       "    <tr>\n",
       "      <th>Country</th>\n",
       "      <th></th>\n",
       "      <th></th>\n",
       "      <th></th>\n",
       "      <th></th>\n",
       "      <th></th>\n",
       "      <th></th>\n",
       "      <th></th>\n",
       "      <th></th>\n",
       "      <th></th>\n",
       "      <th></th>\n",
       "      <th></th>\n",
       "      <th></th>\n",
       "      <th></th>\n",
       "      <th></th>\n",
       "      <th></th>\n",
       "      <th></th>\n",
       "      <th></th>\n",
       "      <th></th>\n",
       "      <th></th>\n",
       "      <th></th>\n",
       "      <th></th>\n",
       "    </tr>\n",
       "  </thead>\n",
       "  <tbody>\n",
       "    <tr>\n",
       "      <th>Afghanistan</th>\n",
       "      <td>1062.0</td>\n",
       "      <td>1176.0</td>\n",
       "      <td>1324.0</td>\n",
       "      <td>1434.0</td>\n",
       "      <td>1989.0</td>\n",
       "      <td>904.0</td>\n",
       "      <td>898.0</td>\n",
       "      <td>1466.0</td>\n",
       "      <td>1395.0</td>\n",
       "      <td>1460.0</td>\n",
       "      <td>...</td>\n",
       "      <td>513.0</td>\n",
       "      <td>561.0</td>\n",
       "      <td>513.0</td>\n",
       "      <td>548.0</td>\n",
       "      <td>558.0</td>\n",
       "      <td>559.0</td>\n",
       "      <td>565.0</td>\n",
       "      <td>594.0</td>\n",
       "      <td>608.0</td>\n",
       "      <td>620.0</td>\n",
       "    </tr>\n",
       "    <tr>\n",
       "      <th>Albania</th>\n",
       "      <td>4455.0</td>\n",
       "      <td>4446.0</td>\n",
       "      <td>5058.0</td>\n",
       "      <td>4659.0</td>\n",
       "      <td>4875.0</td>\n",
       "      <td>5037.0</td>\n",
       "      <td>5419.0</td>\n",
       "      <td>5725.0</td>\n",
       "      <td>6430.0</td>\n",
       "      <td>7561.0</td>\n",
       "      <td>...</td>\n",
       "      <td>3845.0</td>\n",
       "      <td>4730.0</td>\n",
       "      <td>4389.0</td>\n",
       "      <td>4431.0</td>\n",
       "      <td>4369.0</td>\n",
       "      <td>4227.0</td>\n",
       "      <td>4505.0</td>\n",
       "      <td>4869.0</td>\n",
       "      <td>4739.0</td>\n",
       "      <td>4875.0</td>\n",
       "    </tr>\n",
       "    <tr>\n",
       "      <th>Algeria</th>\n",
       "      <td>19383.0</td>\n",
       "      <td>21831.0</td>\n",
       "      <td>31069.0</td>\n",
       "      <td>40176.0</td>\n",
       "      <td>35373.0</td>\n",
       "      <td>33310.0</td>\n",
       "      <td>41740.0</td>\n",
       "      <td>45957.0</td>\n",
       "      <td>51307.0</td>\n",
       "      <td>53420.0</td>\n",
       "      <td>...</td>\n",
       "      <td>89276.0</td>\n",
       "      <td>93457.0</td>\n",
       "      <td>98427.0</td>\n",
       "      <td>102106.0</td>\n",
       "      <td>106292.0</td>\n",
       "      <td>112541.0</td>\n",
       "      <td>114300.0</td>\n",
       "      <td>117063.0</td>\n",
       "      <td>126732.0</td>\n",
       "      <td>132411.0</td>\n",
       "    </tr>\n",
       "    <tr>\n",
       "      <th>American Samoa</th>\n",
       "      <td>6.0</td>\n",
       "      <td>6.0</td>\n",
       "      <td>6.0</td>\n",
       "      <td>7.0</td>\n",
       "      <td>7.0</td>\n",
       "      <td>7.0</td>\n",
       "      <td>7.0</td>\n",
       "      <td>7.0</td>\n",
       "      <td>7.0</td>\n",
       "      <td>7.0</td>\n",
       "      <td>...</td>\n",
       "      <td>18.0</td>\n",
       "      <td>18.0</td>\n",
       "      <td>19.0</td>\n",
       "      <td>19.0</td>\n",
       "      <td>19.0</td>\n",
       "      <td>20.0</td>\n",
       "      <td>20.0</td>\n",
       "      <td>21.0</td>\n",
       "      <td>21.0</td>\n",
       "      <td>21.0</td>\n",
       "    </tr>\n",
       "    <tr>\n",
       "      <th>Angola</th>\n",
       "      <td>8707.0</td>\n",
       "      <td>8653.0</td>\n",
       "      <td>9700.0</td>\n",
       "      <td>9813.0</td>\n",
       "      <td>10032.0</td>\n",
       "      <td>9588.0</td>\n",
       "      <td>8545.0</td>\n",
       "      <td>9216.0</td>\n",
       "      <td>10556.0</td>\n",
       "      <td>10520.0</td>\n",
       "      <td>...</td>\n",
       "      <td>17430.0</td>\n",
       "      <td>15886.0</td>\n",
       "      <td>15840.0</td>\n",
       "      <td>16476.0</td>\n",
       "      <td>16306.0</td>\n",
       "      <td>17289.0</td>\n",
       "      <td>18628.0</td>\n",
       "      <td>20824.0</td>\n",
       "      <td>21641.0</td>\n",
       "      <td>22286.0</td>\n",
       "    </tr>\n",
       "  </tbody>\n",
       "</table>\n",
       "<p>5 rows × 44 columns</p>\n",
       "</div>"
      ],
      "text/plain": [
       "                   1970     1971     1972     1973     1974     1975     1976  \\\n",
       "Country                                                                         \n",
       "Afghanistan      1062.0   1176.0   1324.0   1434.0   1989.0    904.0    898.0   \n",
       "Albania          4455.0   4446.0   5058.0   4659.0   4875.0   5037.0   5419.0   \n",
       "Algeria         19383.0  21831.0  31069.0  40176.0  35373.0  33310.0  41740.0   \n",
       "American Samoa      6.0      6.0      6.0      7.0      7.0      7.0      7.0   \n",
       "Angola           8707.0   8653.0   9700.0   9813.0  10032.0   9588.0   8545.0   \n",
       "\n",
       "                   1977     1978     1979    ...        2004     2005  \\\n",
       "Country                                      ...                        \n",
       "Afghanistan      1466.0   1395.0   1460.0    ...       513.0    561.0   \n",
       "Albania          5725.0   6430.0   7561.0    ...      3845.0   4730.0   \n",
       "Algeria         45957.0  51307.0  53420.0    ...     89276.0  93457.0   \n",
       "American Samoa      7.0      7.0      7.0    ...        18.0     18.0   \n",
       "Angola           9216.0  10556.0  10520.0    ...     17430.0  15886.0   \n",
       "\n",
       "                   2006      2007      2008      2009      2010      2011  \\\n",
       "Country                                                                     \n",
       "Afghanistan       513.0     548.0     558.0     559.0     565.0     594.0   \n",
       "Albania          4389.0    4431.0    4369.0    4227.0    4505.0    4869.0   \n",
       "Algeria         98427.0  102106.0  106292.0  112541.0  114300.0  117063.0   \n",
       "American Samoa     19.0      19.0      19.0      20.0      20.0      21.0   \n",
       "Angola          15840.0   16476.0   16306.0   17289.0   18628.0   20824.0   \n",
       "\n",
       "                    2012      2013  \n",
       "Country                             \n",
       "Afghanistan        608.0     620.0  \n",
       "Albania           4739.0    4875.0  \n",
       "Algeria         126732.0  132411.0  \n",
       "American Samoa      21.0      21.0  \n",
       "Angola           21641.0   22286.0  \n",
       "\n",
       "[5 rows x 44 columns]"
      ]
     },
     "execution_count": 91,
     "metadata": {},
     "output_type": "execute_result"
    }
   ],
   "source": [
    "#r = requests.get('/Data/CarbonEmisson.csv')\n",
    "carbon = pd.read_csv('../CSC-Project/Data/carbon.csv',index_col='Country')\n",
    "carbon.head()"
   ]
  },
  {
   "cell_type": "code",
   "execution_count": 92,
   "metadata": {
    "collapsed": false
   },
   "outputs": [
    {
     "data": {
      "text/html": [
       "<div>\n",
       "<table border=\"1\" class=\"dataframe\">\n",
       "  <thead>\n",
       "    <tr style=\"text-align: right;\">\n",
       "      <th></th>\n",
       "      <th>Year</th>\n",
       "      <th>AverageTemperature</th>\n",
       "      <th>AverageTemperatureUncertainty</th>\n",
       "      <th>Country</th>\n",
       "    </tr>\n",
       "  </thead>\n",
       "  <tbody>\n",
       "    <tr>\n",
       "      <th>0</th>\n",
       "      <td>1743</td>\n",
       "      <td>4.384</td>\n",
       "      <td>2.294</td>\n",
       "      <td>Åland</td>\n",
       "    </tr>\n",
       "    <tr>\n",
       "      <th>1</th>\n",
       "      <td>1743</td>\n",
       "      <td>NaN</td>\n",
       "      <td>NaN</td>\n",
       "      <td>Åland</td>\n",
       "    </tr>\n",
       "    <tr>\n",
       "      <th>2</th>\n",
       "      <td>1744</td>\n",
       "      <td>NaN</td>\n",
       "      <td>NaN</td>\n",
       "      <td>Åland</td>\n",
       "    </tr>\n",
       "    <tr>\n",
       "      <th>3</th>\n",
       "      <td>1744</td>\n",
       "      <td>NaN</td>\n",
       "      <td>NaN</td>\n",
       "      <td>Åland</td>\n",
       "    </tr>\n",
       "    <tr>\n",
       "      <th>4</th>\n",
       "      <td>1744</td>\n",
       "      <td>NaN</td>\n",
       "      <td>NaN</td>\n",
       "      <td>Åland</td>\n",
       "    </tr>\n",
       "  </tbody>\n",
       "</table>\n",
       "</div>"
      ],
      "text/plain": [
       "   Year  AverageTemperature  AverageTemperatureUncertainty Country\n",
       "0  1743               4.384                          2.294   Åland\n",
       "1  1743                 NaN                            NaN   Åland\n",
       "2  1744                 NaN                            NaN   Åland\n",
       "3  1744                 NaN                            NaN   Åland\n",
       "4  1744                 NaN                            NaN   Åland"
      ]
     },
     "execution_count": 92,
     "metadata": {},
     "output_type": "execute_result"
    }
   ],
   "source": [
    "temperatures = pd.read_csv('../CSC-Project/Data/GlobalLandTemperaturesByCountry.csv', parse_dates=['dt'])\n",
    "temperatures['dt'] = temperatures['dt'].apply(lambda x: x.year)\n",
    "temperatures.columns = ['Year', 'AverageTemperature', 'AverageTemperatureUncertainty', 'Country']\n",
    "temperatures.head()"
   ]
  },
  {
   "cell_type": "code",
   "execution_count": 109,
   "metadata": {
    "collapsed": false
   },
   "outputs": [
    {
     "data": {
      "text/plain": [
       "array([[ 15612006.,  15761465.,  16542539.,  17514128.,  17456557.,\n",
       "         17383865.,  18361854.,  18928278.,  19430309.,  19983282.,\n",
       "         19695492.,  19354357.,  19077173.,  19154998.,  19741453.,\n",
       "         19959705.,  20288381.,  20377373.,  21662529.,  22045994.,\n",
       "         22667118.,  22689823.,  22583567.,  22796123.,  22949955.,\n",
       "         23618659.,  24218648.,  24389995.,  24589312.,  24796728.,\n",
       "         25360690.,  25448512.,  26065591.,  27187290.,  28551936.,\n",
       "         29345874.,  30345386.,  31410328.,  31962251.,  31573638.,\n",
       "         32991556.,  34008849.,  34576135.,  35274106.]])"
      ]
     },
     "execution_count": 109,
     "metadata": {},
     "output_type": "execute_result"
    }
   ],
   "source": [
    "world_data=carbon[carbon.index=='World'].values[:]\n",
    "world_data"
   ]
  },
  {
   "cell_type": "code",
   "execution_count": 108,
   "metadata": {
    "collapsed": false
   },
   "outputs": [],
   "source": [
    "dates = temperatures['Year'].drop_duplicates().values\n",
    "temps = temperatures.groupby(['Year']).mean()['AverageTemperature'].values\n",
    "unc_temps = temperatures.groupby(['Year']).mean()['AverageTemperatureUncertainty'].values\n",
    "#from 1970 to 2013\n",
    "dates = dates[-44:]\n",
    "temps = temps[-44:]\n",
    "unc_temps = unc_temps[-44:]"
   ]
  },
  {
   "cell_type": "code",
   "execution_count": 95,
   "metadata": {
    "collapsed": false
   },
   "outputs": [
    {
     "data": {
      "text/html": [
       "<div>\n",
       "<table border=\"1\" class=\"dataframe\">\n",
       "  <thead>\n",
       "    <tr style=\"text-align: right;\">\n",
       "      <th></th>\n",
       "      <th>Average Temp</th>\n",
       "      <th>Average Temp Uncertainty</th>\n",
       "      <th>CO2</th>\n",
       "    </tr>\n",
       "  </thead>\n",
       "  <tbody>\n",
       "    <tr>\n",
       "      <th>1970</th>\n",
       "      <td>18.794121</td>\n",
       "      <td>0.341842</td>\n",
       "      <td>15612006.0</td>\n",
       "    </tr>\n",
       "    <tr>\n",
       "      <th>1971</th>\n",
       "      <td>18.588207</td>\n",
       "      <td>0.334640</td>\n",
       "      <td>15761465.0</td>\n",
       "    </tr>\n",
       "    <tr>\n",
       "      <th>1972</th>\n",
       "      <td>18.665612</td>\n",
       "      <td>0.352646</td>\n",
       "      <td>16542539.0</td>\n",
       "    </tr>\n",
       "    <tr>\n",
       "      <th>1973</th>\n",
       "      <td>18.873293</td>\n",
       "      <td>0.356324</td>\n",
       "      <td>17514128.0</td>\n",
       "    </tr>\n",
       "    <tr>\n",
       "      <th>1974</th>\n",
       "      <td>18.631447</td>\n",
       "      <td>0.337361</td>\n",
       "      <td>17456557.0</td>\n",
       "    </tr>\n",
       "  </tbody>\n",
       "</table>\n",
       "</div>"
      ],
      "text/plain": [
       "      Average Temp  Average Temp Uncertainty         CO2\n",
       "1970     18.794121                  0.341842  15612006.0\n",
       "1971     18.588207                  0.334640  15761465.0\n",
       "1972     18.665612                  0.352646  16542539.0\n",
       "1973     18.873293                  0.356324  17514128.0\n",
       "1974     18.631447                  0.337361  17456557.0"
      ]
     },
     "execution_count": 95,
     "metadata": {},
     "output_type": "execute_result"
    }
   ],
   "source": [
    "df = pd.DataFrame({'Average Temp' : temps,\n",
    "                   'CO2' : world_data[0],\n",
    "                  'Average Temp Uncertainty' : unc_temps},index=dates)\n",
    "df.head()"
   ]
  },
  {
   "cell_type": "code",
   "execution_count": 105,
   "metadata": {
    "collapsed": false
   },
   "outputs": [
    {
     "data": {
      "text/plain": [
       "0.14408479188974976"
      ]
     },
     "execution_count": 105,
     "metadata": {},
     "output_type": "execute_result"
    }
   ],
   "source": [
    "from sklearn.linear_model import LinearRegression\n",
    "#use 22 years for train data and next 22 as test\n",
    "train = df[:24]\n",
    "test = df[23:]\n",
    "X_train = train.drop('Average Temp', axis=1).reset_index().drop('index', axis =1)\n",
    "X_test = test.drop('Average Temp', axis=1).reset_index().drop('index', axis =1)\n",
    "Y_train = train['Average Temp']\n",
    "Y_test = test['Average Temp']\n",
    "lr_elect = LinearRegression()\n",
    "lr_elect.fit(X_train,Y_train)\n",
    "lr_elect.score(X_test, Y_test)"
   ]
  },
  {
   "cell_type": "code",
   "execution_count": 106,
   "metadata": {
    "collapsed": false
   },
   "outputs": [
    {
     "data": {
      "text/plain": [
       "<matplotlib.legend.Legend at 0x115104470>"
      ]
     },
     "execution_count": 106,
     "metadata": {},
     "output_type": "execute_result"
    },
    {
     "data": {
      "image/png": "[encoded data removed]",
      "text/plain": [
       "<matplotlib.figure.Figure at 0x114aa4cf8>"
      ]
     },
     "metadata": {},
     "output_type": "display_data"
    }
   ],
   "source": [
    "y_lr = lr_elect.predict(X_test)\n",
    "plt.figure(figsize=(12,6))\n",
    "plt.scatter(X_test.index, Y_test, label='Observed', color='k')\n",
    "plt.plot(X_test.index, y_lr, label='Predicted', color='g')\n",
    "plt.legend(loc='upper right')"
   ]
  },
  {
   "cell_type": "code",
   "execution_count": 107,
   "metadata": {
    "collapsed": false
   },
   "outputs": [
    {
     "data": {
      "text/plain": [
       "<matplotlib.text.Text at 0x115124828>"
      ]
     },
     "execution_count": 107,
     "metadata": {},
     "output_type": "execute_result"
    },
    {
     "data": {
      "image/png": "[encoded data removed]",
      "text/plain": [
       "<matplotlib.figure.Figure at 0x1150fda20>"
      ]
     },
     "metadata": {},
     "output_type": "display_data"
    }
   ],
   "source": [
    "fig = plt.figure(figsize=(12,6))\n",
    "plt.plot(Y_test, Y_test)\n",
    "plt.scatter(Y_test,y_lr)\n",
    "plt.xlabel('Observed Temp')\n",
    "plt.ylabel('Predicted Temp')"
   ]
  },
  {
   "cell_type": "code",
   "execution_count": null,
   "metadata": {
    "collapsed": true
   },
   "outputs": [],
   "source": []
  }
 ],
 "metadata": {
  "kernelspec": {
   "display_name": "Python [Root]",
   "language": "python",
   "name": "Python [Root]"
  },
  "language_info": {
   "codemirror_mode": {
    "name": "ipython",
    "version": 3
   },
   "file_extension": ".py",
   "mimetype": "text/x-python",
   "name": "python",
   "nbconvert_exporter": "python",
   "pygments_lexer": "ipython3",
   "version": "3.5.2"
  }
 },
 "nbformat": 4,
 "nbformat_minor": 0
}
