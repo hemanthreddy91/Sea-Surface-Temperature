{
 "cells": [
  {
   "cell_type": "code",
   "execution_count": 1,
   "metadata": {
    "collapsed": true,
    "nbpresent": {
     "id": "2ff61b3f-799a-42d7-ad19-187409c61ed4"
    }
   },
   "outputs": [],
   "source": [
    "import project59970 as proj\n",
    "import numpy as np\n",
    "import matplotlib.pyplot as plt\n",
    "%matplotlib inline"
   ]
  },
  {
   "cell_type": "code",
   "execution_count": 2,
   "metadata": {
    "collapsed": false,
    "nbpresent": {
     "id": "47f4668f-71ef-4a54-9607-636017e3ddc3"
    }
   },
   "outputs": [
    {
     "data": {
      "text/html": [
       "<div>\n",
       "<table border=\"1\" class=\"dataframe\">\n",
       "  <thead>\n",
       "    <tr style=\"text-align: right;\">\n",
       "      <th></th>\n",
       "      <th>Facility Id</th>\n",
       "      <th>FRS Id</th>\n",
       "      <th>Facility Name</th>\n",
       "      <th>City</th>\n",
       "      <th>State</th>\n",
       "      <th>Zip Code</th>\n",
       "      <th>Address</th>\n",
       "      <th>County</th>\n",
       "      <th>Latitude</th>\n",
       "      <th>Longitude</th>\n",
       "      <th>...</th>\n",
       "      <th>Titanium Dioxide Production</th>\n",
       "      <th>Underground Coal Mines</th>\n",
       "      <th>Zinc Production</th>\n",
       "      <th>Municipal Landfills</th>\n",
       "      <th>Industrial Wastewater Treatment</th>\n",
       "      <th>Manufacture of Electric Transmission and Distribution Equipment</th>\n",
       "      <th>Industrial Waste Landfills</th>\n",
       "      <th>Is some CO2 collected on-site and used to manufacture other products and therefore not emitted from the affected manufacturing process unit(s)? (as reported under Subpart G or S)</th>\n",
       "      <th>Is some CO2 reported as emissions from the affected manufacturing process unit(s) under Subpart AA, G or P collected and transferred off-site or injected (as reported under Subpart PP)?</th>\n",
       "      <th>Does the facility employ continuous emissions monitoring?</th>\n",
       "    </tr>\n",
       "  </thead>\n",
       "  <tbody>\n",
       "    <tr>\n",
       "      <th>0</th>\n",
       "      <td>1004377</td>\n",
       "      <td>1.100438e+11</td>\n",
       "      <td>121 REGIONAL DISPOSAL FACILITY</td>\n",
       "      <td>MELISSA</td>\n",
       "      <td>TX</td>\n",
       "      <td>75454</td>\n",
       "      <td>3820 SAM RAYBURN HIGHWAY</td>\n",
       "      <td>COLLIN COUNTY</td>\n",
       "      <td>33.298140</td>\n",
       "      <td>-96.531430</td>\n",
       "      <td>...</td>\n",
       "      <td>NaN</td>\n",
       "      <td>NaN</td>\n",
       "      <td>NaN</td>\n",
       "      <td>199011.75</td>\n",
       "      <td>NaN</td>\n",
       "      <td>NaN</td>\n",
       "      <td>NaN</td>\n",
       "      <td>N</td>\n",
       "      <td>N</td>\n",
       "      <td>N</td>\n",
       "    </tr>\n",
       "    <tr>\n",
       "      <th>1</th>\n",
       "      <td>1010040</td>\n",
       "      <td>1.100555e+11</td>\n",
       "      <td>15-18565/15-18662</td>\n",
       "      <td>Hazard</td>\n",
       "      <td>KY</td>\n",
       "      <td>40701</td>\n",
       "      <td>4200 S. Hwy 15</td>\n",
       "      <td>PERRY COUNTY</td>\n",
       "      <td>37.219099</td>\n",
       "      <td>-83.156046</td>\n",
       "      <td>...</td>\n",
       "      <td>NaN</td>\n",
       "      <td>118204.5</td>\n",
       "      <td>NaN</td>\n",
       "      <td>NaN</td>\n",
       "      <td>NaN</td>\n",
       "      <td>NaN</td>\n",
       "      <td>NaN</td>\n",
       "      <td>N</td>\n",
       "      <td>N</td>\n",
       "      <td>N</td>\n",
       "    </tr>\n",
       "    <tr>\n",
       "      <th>2</th>\n",
       "      <td>1010085</td>\n",
       "      <td>1.100555e+11</td>\n",
       "      <td>15-19015</td>\n",
       "      <td>Hazard</td>\n",
       "      <td>KY</td>\n",
       "      <td>41701</td>\n",
       "      <td>1845 S. KY HWY 15</td>\n",
       "      <td>PERRY</td>\n",
       "      <td>37.236617</td>\n",
       "      <td>-83.181260</td>\n",
       "      <td>...</td>\n",
       "      <td>NaN</td>\n",
       "      <td>55872.5</td>\n",
       "      <td>NaN</td>\n",
       "      <td>NaN</td>\n",
       "      <td>NaN</td>\n",
       "      <td>NaN</td>\n",
       "      <td>NaN</td>\n",
       "      <td>N</td>\n",
       "      <td>N</td>\n",
       "      <td>N</td>\n",
       "    </tr>\n",
       "    <tr>\n",
       "      <th>3</th>\n",
       "      <td>1000112</td>\n",
       "      <td>1.100198e+11</td>\n",
       "      <td>23rd and 3rd</td>\n",
       "      <td>BROOKLYN</td>\n",
       "      <td>NY</td>\n",
       "      <td>11232</td>\n",
       "      <td>730 3rd Avenue</td>\n",
       "      <td>Kings</td>\n",
       "      <td>40.663000</td>\n",
       "      <td>-74.000000</td>\n",
       "      <td>...</td>\n",
       "      <td>NaN</td>\n",
       "      <td>NaN</td>\n",
       "      <td>NaN</td>\n",
       "      <td>NaN</td>\n",
       "      <td>NaN</td>\n",
       "      <td>NaN</td>\n",
       "      <td>NaN</td>\n",
       "      <td>N</td>\n",
       "      <td>N</td>\n",
       "      <td>N</td>\n",
       "    </tr>\n",
       "    <tr>\n",
       "      <th>4</th>\n",
       "      <td>1006394</td>\n",
       "      <td>NaN</td>\n",
       "      <td>29-6 #2 Central Delivery Point</td>\n",
       "      <td>Blanco</td>\n",
       "      <td>NM</td>\n",
       "      <td>87412</td>\n",
       "      <td>NaN</td>\n",
       "      <td>Rio Arriba</td>\n",
       "      <td>36.745200</td>\n",
       "      <td>-107.445500</td>\n",
       "      <td>...</td>\n",
       "      <td>NaN</td>\n",
       "      <td>NaN</td>\n",
       "      <td>NaN</td>\n",
       "      <td>NaN</td>\n",
       "      <td>NaN</td>\n",
       "      <td>NaN</td>\n",
       "      <td>NaN</td>\n",
       "      <td>N</td>\n",
       "      <td>N</td>\n",
       "      <td>N</td>\n",
       "    </tr>\n",
       "  </tbody>\n",
       "</table>\n",
       "<p>5 rows × 66 columns</p>\n",
       "</div>"
      ],
      "text/plain": [
       "   Facility Id        FRS Id                   Facility Name      City State  \\\n",
       "0      1004377  1.100438e+11  121 REGIONAL DISPOSAL FACILITY   MELISSA    TX   \n",
       "1      1010040  1.100555e+11               15-18565/15-18662    Hazard    KY   \n",
       "2      1010085  1.100555e+11                        15-19015    Hazard    KY   \n",
       "3      1000112  1.100198e+11                    23rd and 3rd  BROOKLYN    NY   \n",
       "4      1006394           NaN  29-6 #2 Central Delivery Point    Blanco    NM   \n",
       "\n",
       "   Zip Code                   Address         County   Latitude   Longitude  \\\n",
       "0     75454  3820 SAM RAYBURN HIGHWAY  COLLIN COUNTY  33.298140  -96.531430   \n",
       "1     40701            4200 S. Hwy 15   PERRY COUNTY  37.219099  -83.156046   \n",
       "2     41701         1845 S. KY HWY 15          PERRY  37.236617  -83.181260   \n",
       "3     11232            730 3rd Avenue          Kings  40.663000  -74.000000   \n",
       "4     87412                       NaN     Rio Arriba  36.745200 -107.445500   \n",
       "\n",
       "                              ...                              \\\n",
       "0                             ...                               \n",
       "1                             ...                               \n",
       "2                             ...                               \n",
       "3                             ...                               \n",
       "4                             ...                               \n",
       "\n",
       "   Titanium Dioxide Production Underground Coal Mines Zinc Production  \\\n",
       "0                          NaN                    NaN             NaN   \n",
       "1                          NaN               118204.5             NaN   \n",
       "2                          NaN                55872.5             NaN   \n",
       "3                          NaN                    NaN             NaN   \n",
       "4                          NaN                    NaN             NaN   \n",
       "\n",
       "   Municipal Landfills Industrial Wastewater Treatment  \\\n",
       "0            199011.75                             NaN   \n",
       "1                  NaN                             NaN   \n",
       "2                  NaN                             NaN   \n",
       "3                  NaN                             NaN   \n",
       "4                  NaN                             NaN   \n",
       "\n",
       "   Manufacture of Electric Transmission and Distribution Equipment  \\\n",
       "0                                                NaN                 \n",
       "1                                                NaN                 \n",
       "2                                                NaN                 \n",
       "3                                                NaN                 \n",
       "4                                                NaN                 \n",
       "\n",
       "   Industrial Waste Landfills  \\\n",
       "0                         NaN   \n",
       "1                         NaN   \n",
       "2                         NaN   \n",
       "3                         NaN   \n",
       "4                         NaN   \n",
       "\n",
       "   Is some CO2 collected on-site and used to manufacture other products and therefore not emitted from the affected manufacturing process unit(s)? (as reported under Subpart G or S)  \\\n",
       "0                                                  N                                                                                                                                    \n",
       "1                                                  N                                                                                                                                    \n",
       "2                                                  N                                                                                                                                    \n",
       "3                                                  N                                                                                                                                    \n",
       "4                                                  N                                                                                                                                    \n",
       "\n",
       "   Is some CO2 reported as emissions from the affected manufacturing process unit(s) under Subpart AA, G or P collected and transferred off-site or injected (as reported under Subpart PP)?  \\\n",
       "0                                                  N                                                                                                                                           \n",
       "1                                                  N                                                                                                                                           \n",
       "2                                                  N                                                                                                                                           \n",
       "3                                                  N                                                                                                                                           \n",
       "4                                                  N                                                                                                                                           \n",
       "\n",
       "   Does the facility employ continuous emissions monitoring?   \n",
       "0                                                  N           \n",
       "1                                                  N           \n",
       "2                                                  N           \n",
       "3                                                  N           \n",
       "4                                                  N           \n",
       "\n",
       "[5 rows x 66 columns]"
      ]
     },
     "execution_count": 2,
     "metadata": {},
     "output_type": "execute_result"
    }
   ],
   "source": [
    "ghg_df = proj.create_dataframe()    # CapeGrim dataset\n",
    "ghg_df.head()"
   ]
  },
  {
   "cell_type": "code",
   "execution_count": 3,
   "metadata": {
    "collapsed": false,
    "nbpresent": {
     "id": "99102b61-d16c-413d-aba9-a43f1dc7cd44"
    }
   },
   "outputs": [
    {
     "data": {
      "text/html": [
       "<div>\n",
       "<table border=\"1\" class=\"dataframe\">\n",
       "  <thead>\n",
       "    <tr style=\"text-align: right;\">\n",
       "      <th></th>\n",
       "      <th>Facility Id</th>\n",
       "      <th>FRS Id</th>\n",
       "      <th>Facility Name</th>\n",
       "      <th>City</th>\n",
       "      <th>State</th>\n",
       "      <th>Zip Code</th>\n",
       "      <th>Address</th>\n",
       "      <th>County</th>\n",
       "      <th>Latitude</th>\n",
       "      <th>Longitude</th>\n",
       "      <th>...</th>\n",
       "      <th>Titanium Dioxide Production</th>\n",
       "      <th>Underground Coal Mines</th>\n",
       "      <th>Zinc Production</th>\n",
       "      <th>Municipal Landfills</th>\n",
       "      <th>Industrial Wastewater Treatment</th>\n",
       "      <th>Manufacture of Electric Transmission and Distribution Equipment</th>\n",
       "      <th>Industrial Waste Landfills</th>\n",
       "      <th>Is some CO2 collected on-site and used to manufacture other products and therefore not emitted from the affected manufacturing process unit(s)? (as reported under Subpart G or S)</th>\n",
       "      <th>Is some CO2 reported as emissions from the affected manufacturing process unit(s) under Subpart AA, G or P collected and transferred off-site or injected (as reported under Subpart PP)?</th>\n",
       "      <th>Does the facility employ continuous emissions monitoring?</th>\n",
       "    </tr>\n",
       "  </thead>\n",
       "  <tbody>\n",
       "    <tr>\n",
       "      <th>0</th>\n",
       "      <td>1004377</td>\n",
       "      <td>1.100438e+11</td>\n",
       "      <td>121 REGIONAL DISPOSAL FACILITY</td>\n",
       "      <td>MELISSA</td>\n",
       "      <td>TX</td>\n",
       "      <td>75454</td>\n",
       "      <td>3820 SAM RAYBURN HIGHWAY</td>\n",
       "      <td>COLLIN COUNTY</td>\n",
       "      <td>33.298140</td>\n",
       "      <td>-96.531430</td>\n",
       "      <td>...</td>\n",
       "      <td>0.0</td>\n",
       "      <td>0.0</td>\n",
       "      <td>0.0</td>\n",
       "      <td>199011.75</td>\n",
       "      <td>0.0</td>\n",
       "      <td>0.0</td>\n",
       "      <td>0.0</td>\n",
       "      <td>N</td>\n",
       "      <td>N</td>\n",
       "      <td>N</td>\n",
       "    </tr>\n",
       "    <tr>\n",
       "      <th>1</th>\n",
       "      <td>1010040</td>\n",
       "      <td>1.100555e+11</td>\n",
       "      <td>15-18565/15-18662</td>\n",
       "      <td>Hazard</td>\n",
       "      <td>KY</td>\n",
       "      <td>40701</td>\n",
       "      <td>4200 S. Hwy 15</td>\n",
       "      <td>PERRY COUNTY</td>\n",
       "      <td>37.219099</td>\n",
       "      <td>-83.156046</td>\n",
       "      <td>...</td>\n",
       "      <td>0.0</td>\n",
       "      <td>118204.5</td>\n",
       "      <td>0.0</td>\n",
       "      <td>0.00</td>\n",
       "      <td>0.0</td>\n",
       "      <td>0.0</td>\n",
       "      <td>0.0</td>\n",
       "      <td>N</td>\n",
       "      <td>N</td>\n",
       "      <td>N</td>\n",
       "    </tr>\n",
       "    <tr>\n",
       "      <th>2</th>\n",
       "      <td>1010085</td>\n",
       "      <td>1.100555e+11</td>\n",
       "      <td>15-19015</td>\n",
       "      <td>Hazard</td>\n",
       "      <td>KY</td>\n",
       "      <td>41701</td>\n",
       "      <td>1845 S. KY HWY 15</td>\n",
       "      <td>PERRY</td>\n",
       "      <td>37.236617</td>\n",
       "      <td>-83.181260</td>\n",
       "      <td>...</td>\n",
       "      <td>0.0</td>\n",
       "      <td>55872.5</td>\n",
       "      <td>0.0</td>\n",
       "      <td>0.00</td>\n",
       "      <td>0.0</td>\n",
       "      <td>0.0</td>\n",
       "      <td>0.0</td>\n",
       "      <td>N</td>\n",
       "      <td>N</td>\n",
       "      <td>N</td>\n",
       "    </tr>\n",
       "    <tr>\n",
       "      <th>3</th>\n",
       "      <td>1000112</td>\n",
       "      <td>1.100198e+11</td>\n",
       "      <td>23rd and 3rd</td>\n",
       "      <td>BROOKLYN</td>\n",
       "      <td>NY</td>\n",
       "      <td>11232</td>\n",
       "      <td>730 3rd Avenue</td>\n",
       "      <td>Kings</td>\n",
       "      <td>40.663000</td>\n",
       "      <td>-74.000000</td>\n",
       "      <td>...</td>\n",
       "      <td>0.0</td>\n",
       "      <td>0.0</td>\n",
       "      <td>0.0</td>\n",
       "      <td>0.00</td>\n",
       "      <td>0.0</td>\n",
       "      <td>0.0</td>\n",
       "      <td>0.0</td>\n",
       "      <td>N</td>\n",
       "      <td>N</td>\n",
       "      <td>N</td>\n",
       "    </tr>\n",
       "    <tr>\n",
       "      <th>4</th>\n",
       "      <td>1006394</td>\n",
       "      <td>0.000000e+00</td>\n",
       "      <td>29-6 #2 Central Delivery Point</td>\n",
       "      <td>Blanco</td>\n",
       "      <td>NM</td>\n",
       "      <td>87412</td>\n",
       "      <td>0</td>\n",
       "      <td>Rio Arriba</td>\n",
       "      <td>36.745200</td>\n",
       "      <td>-107.445500</td>\n",
       "      <td>...</td>\n",
       "      <td>0.0</td>\n",
       "      <td>0.0</td>\n",
       "      <td>0.0</td>\n",
       "      <td>0.00</td>\n",
       "      <td>0.0</td>\n",
       "      <td>0.0</td>\n",
       "      <td>0.0</td>\n",
       "      <td>N</td>\n",
       "      <td>N</td>\n",
       "      <td>N</td>\n",
       "    </tr>\n",
       "  </tbody>\n",
       "</table>\n",
       "<p>5 rows × 66 columns</p>\n",
       "</div>"
      ],
      "text/plain": [
       "   Facility Id        FRS Id                   Facility Name      City State  \\\n",
       "0      1004377  1.100438e+11  121 REGIONAL DISPOSAL FACILITY   MELISSA    TX   \n",
       "1      1010040  1.100555e+11               15-18565/15-18662    Hazard    KY   \n",
       "2      1010085  1.100555e+11                        15-19015    Hazard    KY   \n",
       "3      1000112  1.100198e+11                    23rd and 3rd  BROOKLYN    NY   \n",
       "4      1006394  0.000000e+00  29-6 #2 Central Delivery Point    Blanco    NM   \n",
       "\n",
       "   Zip Code                   Address         County   Latitude   Longitude  \\\n",
       "0     75454  3820 SAM RAYBURN HIGHWAY  COLLIN COUNTY  33.298140  -96.531430   \n",
       "1     40701            4200 S. Hwy 15   PERRY COUNTY  37.219099  -83.156046   \n",
       "2     41701         1845 S. KY HWY 15          PERRY  37.236617  -83.181260   \n",
       "3     11232            730 3rd Avenue          Kings  40.663000  -74.000000   \n",
       "4     87412                         0     Rio Arriba  36.745200 -107.445500   \n",
       "\n",
       "                              ...                              \\\n",
       "0                             ...                               \n",
       "1                             ...                               \n",
       "2                             ...                               \n",
       "3                             ...                               \n",
       "4                             ...                               \n",
       "\n",
       "   Titanium Dioxide Production Underground Coal Mines Zinc Production  \\\n",
       "0                          0.0                    0.0             0.0   \n",
       "1                          0.0               118204.5             0.0   \n",
       "2                          0.0                55872.5             0.0   \n",
       "3                          0.0                    0.0             0.0   \n",
       "4                          0.0                    0.0             0.0   \n",
       "\n",
       "   Municipal Landfills Industrial Wastewater Treatment  \\\n",
       "0            199011.75                             0.0   \n",
       "1                 0.00                             0.0   \n",
       "2                 0.00                             0.0   \n",
       "3                 0.00                             0.0   \n",
       "4                 0.00                             0.0   \n",
       "\n",
       "   Manufacture of Electric Transmission and Distribution Equipment  \\\n",
       "0                                                0.0                 \n",
       "1                                                0.0                 \n",
       "2                                                0.0                 \n",
       "3                                                0.0                 \n",
       "4                                                0.0                 \n",
       "\n",
       "   Industrial Waste Landfills  \\\n",
       "0                         0.0   \n",
       "1                         0.0   \n",
       "2                         0.0   \n",
       "3                         0.0   \n",
       "4                         0.0   \n",
       "\n",
       "   Is some CO2 collected on-site and used to manufacture other products and therefore not emitted from the affected manufacturing process unit(s)? (as reported under Subpart G or S)  \\\n",
       "0                                                  N                                                                                                                                    \n",
       "1                                                  N                                                                                                                                    \n",
       "2                                                  N                                                                                                                                    \n",
       "3                                                  N                                                                                                                                    \n",
       "4                                                  N                                                                                                                                    \n",
       "\n",
       "   Is some CO2 reported as emissions from the affected manufacturing process unit(s) under Subpart AA, G or P collected and transferred off-site or injected (as reported under Subpart PP)?  \\\n",
       "0                                                  N                                                                                                                                           \n",
       "1                                                  N                                                                                                                                           \n",
       "2                                                  N                                                                                                                                           \n",
       "3                                                  N                                                                                                                                           \n",
       "4                                                  N                                                                                                                                           \n",
       "\n",
       "   Does the facility employ continuous emissions monitoring?   \n",
       "0                                                  N           \n",
       "1                                                  N           \n",
       "2                                                  N           \n",
       "3                                                  N           \n",
       "4                                                  N           \n",
       "\n",
       "[5 rows x 66 columns]"
      ]
     },
     "execution_count": 3,
     "metadata": {},
     "output_type": "execute_result"
    }
   ],
   "source": [
    "ghg_df = ghg_df.fillna(0)\n",
    "ghg_df.head()"
   ]
  },
  {
   "cell_type": "code",
   "execution_count": 4,
   "metadata": {
    "collapsed": true,
    "nbpresent": {
     "id": "afab69f3-2f34-477d-8469-6885c295342e"
    }
   },
   "outputs": [],
   "source": [
    "def total_emissions(header):\n",
    "    chem = 0.0\n",
    "    for i in range(len(ghg_df)):\n",
    "        try:\n",
    "            chem += float(ghg_df[header].values[i])\n",
    "        except:\n",
    "            pass\n",
    "    return chem"
   ]
  },
  {
   "cell_type": "code",
   "execution_count": 5,
   "metadata": {
    "collapsed": false,
    "nbpresent": {
     "id": "923931d2-d61b-4cf1-80de-f49920bd71f2"
    }
   },
   "outputs": [],
   "source": [
    "co2 = total_emissions('CO2 emissions (non-biogenic) ')\n",
    "co2 += total_emissions('Other GHGs (metric tons CO2e)')\n",
    "co2 += total_emissions('Biogenic CO2 emissions (metric tons)')\n",
    "\n",
    "ch4 = total_emissions('Methane (CH4) emissions ')\n",
    "\n",
    "n2o = total_emissions('Nitrous Oxide (N2O) emissions ')\n",
    "\n",
    "hfc = total_emissions('HFC emissions')\n",
    "\n",
    "pfc = total_emissions('PFC emissions')\n",
    "\n",
    "sf6 = total_emissions('SF6 emissions ')\n",
    "\n",
    "nf3 = total_emissions('NF3 emissions')\n",
    "\n",
    "other = total_emissions('Other Fully Fluorinated GHG emissions')\n",
    "\n",
    "hfe = total_emissions('HFE emissions')\n",
    "\n",
    "vslc = total_emissions('Very Short-lived Compounds emissions')"
   ]
  },
  {
   "cell_type": "code",
   "execution_count": 41,
   "metadata": {
    "collapsed": false
   },
   "outputs": [
    {
     "data": {
      "text/plain": [
       "0.8292367102662044"
      ]
     },
     "execution_count": 41,
     "metadata": {},
     "output_type": "execute_result"
    }
   ],
   "source": [
    "data = [co2, ch4, n2o, hfc, pfc, sf6, nf3, other, hfe, vslc]\n",
    "total = sum(data)\n",
    "\n",
    "co2_per = (data[2] / total) * 100\n",
    "co2_per"
   ]
  },
  {
   "cell_type": "code",
   "execution_count": 50,
   "metadata": {
    "collapsed": false,
    "nbpresent": {
     "id": "0b5ddf88-504f-4f8e-9b07-6a86e372478f"
    }
   },
   "outputs": [
    {
     "data": {
      "image/png": "[encoded data removed]",
      "text/plain": [
       "<matplotlib.figure.Figure at 0x7f73026f7b00>"
      ]
     },
     "metadata": {},
     "output_type": "display_data"
    }
   ],
   "source": [
    "data = [co2, ch4, n2o, hfc, pfc, sf6, nf3, other, hfe, vslc]\n",
    "total = sum(data)\n",
    "ind = np.arange(len(data))\n",
    "width = 0.5\n",
    "\n",
    "fig, ax = plt.subplots(figsize=(12, 6))\n",
    "chart = ax.bar(ind + 0.25, data, width)\n",
    "\n",
    "ax.set_title('2015 Greenhouse Gas (GHG) Emissions')\n",
    "ax.set_xticks(ind + width)\n",
    "ax.set_xticklabels(['CO2', 'CH4', 'N2O', 'HFCs', 'PFCs', 'SF6', 'NF3', 'Other Fully \\nFluorinated GHGs', 'HFEs', 'Very Short-lived \\nCompounds'], rotation=45)\n",
    "ax.set_ylabel('Metric Tons')\n",
    "ax.set_ylim([0, 3.5e9])\n",
    "\n",
    "for bar in chart:\n",
    "    percent = (bar.get_height() / total) * 100.0\n",
    "    ax.text(bar.get_x() + bar.get_width() / 2., 1.05*bar.get_height(), '%0.4f' % percent + '%', ha='center', va='bottom')\n",
    "\n",
    "plt.show()"
   ]
  },
  {
   "cell_type": "markdown",
   "metadata": {
    "nbpresent": {
     "id": "d2b32096-e543-48a1-aed1-fbb598525743"
    }
   },
   "source": [
    "### Greenhouse gas emissions are almost entirely carbon dioxide (CO2) at about 93%. Second is methane (CH4) at about 5%, and is not even relatively close to the amount of CO2 emissions."
   ]
  },
  {
   "cell_type": "code",
   "execution_count": null,
   "metadata": {
    "collapsed": true
   },
   "outputs": [],
   "source": []
  }
 ],
 "metadata": {
  "anaconda-cloud": {},
  "kernelspec": {
   "display_name": "Python [Root]",
   "language": "python",
   "name": "Python [Root]"
  },
  "language_info": {
   "codemirror_mode": {
    "name": "ipython",
    "version": 3
   },
   "file_extension": ".py",
   "mimetype": "text/x-python",
   "name": "python",
   "nbconvert_exporter": "python",
   "pygments_lexer": "ipython3",
   "version": "3.5.2"
  },
  "nbpresent": {
   "slides": {
    "029552c9-2c73-40fd-bb6b-36632a12ed01": {
     "id": "029552c9-2c73-40fd-bb6b-36632a12ed01",
     "prev": null,
     "regions": {
      "db868cb5-ed9f-4ee7-9ec1-2df6f264fae2": {
       "attrs": {
        "height": 0.8,
        "width": 0.8,
        "x": 0.1,
        "y": 0.1
       },
       "content": {
        "cell": "2ff61b3f-799a-42d7-ad19-187409c61ed4",
        "part": "whole"
       },
       "id": "db868cb5-ed9f-4ee7-9ec1-2df6f264fae2"
      }
     }
    },
    "2ded6ff2-605b-4a81-8475-9b65f407f707": {
     "id": "2ded6ff2-605b-4a81-8475-9b65f407f707",
     "prev": "acbf6730-d429-4052-a908-3a436e084a9d",
     "regions": {
      "cdc26974-80eb-434b-88b7-8507e903b0db": {
       "attrs": {
        "height": 0.8,
        "width": 0.8,
        "x": 0.1,
        "y": 0.1
       },
       "content": {
        "cell": "47f4668f-71ef-4a54-9607-636017e3ddc3",
        "part": "whole"
       },
       "id": "cdc26974-80eb-434b-88b7-8507e903b0db"
      }
     }
    },
    "2fb9f067-4edb-4def-89d7-8d5b163b5a0f": {
     "id": "2fb9f067-4edb-4def-89d7-8d5b163b5a0f",
     "prev": "9c829ffa-5c6c-490b-a519-089ff4edb8a6",
     "regions": {
      "146a9751-195e-496d-bc2e-f2c97a8f9e5e": {
       "attrs": {
        "height": 0.8,
        "width": 0.8,
        "x": 0.1,
        "y": 0.1
       },
       "content": {
        "cell": "0b5ddf88-504f-4f8e-9b07-6a86e372478f",
        "part": "whole"
       },
       "id": "146a9751-195e-496d-bc2e-f2c97a8f9e5e"
      }
     }
    },
    "3b0a9b34-704c-4087-8b19-0b2e9be097fe": {
     "id": "3b0a9b34-704c-4087-8b19-0b2e9be097fe",
     "prev": "2fb9f067-4edb-4def-89d7-8d5b163b5a0f",
     "regions": {
      "2915762c-5656-4bd7-9de4-c0e39c04f5a2": {
       "attrs": {
        "height": 0.8,
        "width": 0.8,
        "x": 0.1,
        "y": 0.1
       },
       "content": {
        "cell": "d2b32096-e543-48a1-aed1-fbb598525743",
        "part": "whole"
       },
       "id": "2915762c-5656-4bd7-9de4-c0e39c04f5a2"
      }
     }
    },
    "5144e1a5-e030-48ef-96aa-f4169ce1c3e0": {
     "id": "5144e1a5-e030-48ef-96aa-f4169ce1c3e0",
     "prev": "2ded6ff2-605b-4a81-8475-9b65f407f707",
     "regions": {
      "a0adf4f0-a843-452f-b9f6-920f9d3832bb": {
       "attrs": {
        "height": 0.8,
        "width": 0.8,
        "x": 0.1,
        "y": 0.1
       },
       "content": {
        "cell": "99102b61-d16c-413d-aba9-a43f1dc7cd44",
        "part": "whole"
       },
       "id": "a0adf4f0-a843-452f-b9f6-920f9d3832bb"
      }
     }
    },
    "54feb883-c9a5-49a6-9628-f0b2bdb2abba": {
     "id": "54feb883-c9a5-49a6-9628-f0b2bdb2abba",
     "prev": "3b0a9b34-704c-4087-8b19-0b2e9be097fe",
     "regions": {
      "a22eccc9-42a0-473b-ab9a-1e9a6a9bc1c9": {
       "attrs": {
        "height": 0.8,
        "width": 0.8,
        "x": 0.1,
        "y": 0.1
       },
       "content": {
        "cell": "af65aa53-0c95-4cf9-8dae-a1693a2ab869",
        "part": "whole"
       },
       "id": "a22eccc9-42a0-473b-ab9a-1e9a6a9bc1c9"
      }
     }
    },
    "9c829ffa-5c6c-490b-a519-089ff4edb8a6": {
     "id": "9c829ffa-5c6c-490b-a519-089ff4edb8a6",
     "prev": "5144e1a5-e030-48ef-96aa-f4169ce1c3e0",
     "regions": {
      "9b1d8135-18c4-4b40-ada4-a46db8029bfe": {
       "attrs": {
        "height": 0.8,
        "width": 0.8,
        "x": 0.1,
        "y": 0.1
       },
       "content": {
        "cell": "afab69f3-2f34-477d-8469-6885c295342e",
        "part": "whole"
       },
       "id": "9b1d8135-18c4-4b40-ada4-a46db8029bfe"
      }
     }
    },
    "acbf6730-d429-4052-a908-3a436e084a9d": {
     "id": "acbf6730-d429-4052-a908-3a436e084a9d",
     "prev": "029552c9-2c73-40fd-bb6b-36632a12ed01",
     "regions": {
      "aff8f8ac-247a-4588-825b-e9e2907af30e": {
       "attrs": {
        "height": 0.8,
        "width": 0.8,
        "x": 0.1,
        "y": 0.1
       },
       "content": {
        "cell": "923931d2-d61b-4cf1-80de-f49920bd71f2",
        "part": "whole"
       },
       "id": "aff8f8ac-247a-4588-825b-e9e2907af30e"
      }
     }
    }
   },
   "themes": {}
  }
 },
 "nbformat": 4,
 "nbformat_minor": 0
}
